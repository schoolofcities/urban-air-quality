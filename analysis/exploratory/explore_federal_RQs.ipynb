{
 "cells": [
  {
   "cell_type": "code",
   "execution_count": 2,
   "metadata": {},
   "outputs": [],
   "source": [
    "import os\n",
    "from datetime import datetime, timedelta\n",
    "\n",
    "import pandas as pd\n",
    "import numpy as np\n",
    "from tqdm import tqdm\n",
    "\n",
    "import matplotlib.pyplot as plt\n",
    "import matplotlib.cm as cm\n",
    "import matplotlib.colors as mcolors\n",
    "import matplotlib.dates as mdates"
   ]
  },
  {
   "cell_type": "code",
   "execution_count": 3,
   "metadata": {},
   "outputs": [],
   "source": [
    "from constants import FEDERAL_LOCATION_IDS\n",
    "FEDERAL_CITIES = list(FEDERAL_LOCATION_IDS.keys())"
   ]
  },
  {
   "cell_type": "markdown",
   "metadata": {},
   "source": [
    "RQ1: How many days per year are in each health risk category using maximum daily AQHI, for each city? Is it increasing?"
   ]
  },
  {
   "cell_type": "code",
   "execution_count": 12,
   "metadata": {},
   "outputs": [
    {
     "name": "stdout",
     "output_type": "stream",
     "text": [
      "Processing aqhi\n"
     ]
    },
    {
     "name": "stderr",
     "output_type": "stream",
     "text": [
      "100%|██████████| 42/42 [00:00<00:00, 86.04it/s]\n"
     ]
    },
    {
     "name": "stdout",
     "output_type": "stream",
     "text": [
      "Processing aqhi_plus\n"
     ]
    },
    {
     "name": "stderr",
     "output_type": "stream",
     "text": [
      "100%|██████████| 42/42 [00:00<00:00, 83.43it/s]\n"
     ]
    },
    {
     "name": "stdout",
     "output_type": "stream",
     "text": [
      "Processing pm25\n"
     ]
    },
    {
     "name": "stderr",
     "output_type": "stream",
     "text": [
      "100%|██████████| 42/42 [00:00<00:00, 64.17it/s]\n"
     ]
    }
   ],
   "source": [
    "# Categories for AQHI and PM2.5\n",
    "aqhi_categories = {\n",
    "    \"Low (1-3)\": (1, 3),\n",
    "    \"Moderate (4-6)\": (4, 6),\n",
    "    \"High (7-10)\": (7, 10),\n",
    "    \"Very High (11)\": (11, 11),\n",
    "    \"High and Very High (7+)\": (7, 11),\n",
    "}\n",
    "\n",
    "pm25_categories = {\n",
    "    \"Good (0-12)\": (0, 12),\n",
    "    \"Moderate (12-35.5)\": (12, 35.5),\n",
    "    \"Unhealthy-1 (35.5-55.5)\": (35.5, 55.5),\n",
    "    \"Unhealthy-2 (55.5-150.5)\": (55.5, 150.5),\n",
    "    \"Unhealthy-3 (150.5-250.5)\": (150.5, 250.5),\n",
    "    \"Hazardous (250.5+)\": (250.5, np.inf),\n",
    "    \"Unhealthy and Hazardous (55.5+)\": (55.5, np.inf),\n",
    "}\n",
    "\n",
    "years = list(range(2005, 2026))\n",
    "\n",
    "# Helper: compute heatmap matrix (cities × years)\n",
    "def compute_heatmap(case, col, categories, raw_col=None):\n",
    "    results = {cat: pd.DataFrame(0, index=FEDERAL_CITIES, columns=years) for cat in categories}\n",
    "\n",
    "    print(f\"Processing {case}\")\n",
    "    for city in tqdm(FEDERAL_CITIES):\n",
    "        dir_end = case\n",
    "        if case == \"aqhi_plus\":\n",
    "            dir_end = \"aqhi-plus\"\n",
    "\n",
    "        daily_path = f\"../../data/processed/federal/daily-{dir_end}/{city}.csv\"\n",
    "        if not os.path.exists(daily_path):\n",
    "            continue\n",
    "\n",
    "        df_daily = pd.read_csv(daily_path, index_col=0, parse_dates=True)\n",
    "        if col not in df_daily.columns:\n",
    "            continue\n",
    "\n",
    "        series = df_daily[col].dropna()\n",
    "\n",
    "        for cat_name, (low, high) in categories.items():\n",
    "            mask = (series >= low) & (series <= high)\n",
    "            filtered = series[mask]\n",
    "            if filtered.empty:\n",
    "                continue\n",
    "\n",
    "            yearly_counts = filtered.groupby(filtered.index.year).size()\n",
    "            results[cat_name].loc[city, yearly_counts.index] = yearly_counts.values\n",
    "\n",
    "    return results\n",
    "\n",
    "# Helper: plot heatmap grids\n",
    "def plot_heatmaps(results, case, cmap=\"Reds\"):\n",
    "    out_dir = f\"../../data/plots/federal-{case}\"\n",
    "    os.makedirs(out_dir, exist_ok=True)\n",
    "\n",
    "    for cat_name, df_matrix in results.items():\n",
    "        plt.figure(figsize=(15, 10))\n",
    "        im = plt.imshow(df_matrix.values, aspect=\"auto\", cmap=cmap, interpolation=\"nearest\")\n",
    "\n",
    "        # Axis formatting\n",
    "        plt.yticks(range(len(df_matrix.index)), df_matrix.index)\n",
    "        plt.xticks(range(len(df_matrix.columns)), df_matrix.columns, rotation=90)\n",
    "        plt.colorbar(im, label=\"Number of Days\")\n",
    "\n",
    "        plt.title(f\"{case.upper()} – {cat_name}\")\n",
    "        plt.xlabel(\"Year\")\n",
    "        plt.ylabel(\"City\")\n",
    "\n",
    "        plt.tight_layout()\n",
    "        plt.savefig(f\"{out_dir}/{case}_{cat_name.replace(' ', '_').replace('(', '').replace(')', '')}.png\", dpi=150)\n",
    "        plt.close()\n",
    "\n",
    "\n",
    "# ---- Run for AQHI (max values) ----\n",
    "for case, col in [(\"aqhi\", \"max_aqhi\"), (\"aqhi_plus\", \"max_aqhi_plus\")]:\n",
    "    results = compute_heatmap(case, col, aqhi_categories)\n",
    "    plot_heatmaps(results, case, cmap=\"Reds\")\n",
    "\n",
    "# ---- Run for PM2.5 ----\n",
    "results_pm25 = compute_heatmap(\"pm25\", \"max_pm25\", pm25_categories)\n",
    "plot_heatmaps(results_pm25, \"pm25\", cmap=\"YlOrBr\")"
   ]
  },
  {
   "cell_type": "code",
   "execution_count": 10,
   "metadata": {},
   "outputs": [
    {
     "name": "stdout",
     "output_type": "stream",
     "text": [
      "max_aqhi\n",
      "3.0     3131\n",
      "4.0     2307\n",
      "5.0      885\n",
      "2.0      729\n",
      "6.0      291\n",
      "7.0       89\n",
      "8.0       27\n",
      "9.0        4\n",
      "1.0        1\n",
      "10.0       1\n",
      "11.0       1\n",
      "Name: count, dtype: int64\n"
     ]
    }
   ],
   "source": [
    "df = pd.read_csv(\"../../data/processed/federal/daily-aqhi/Toronto.csv\", index_col=0, parse_dates=True)\n",
    "print(df[\"max_aqhi\"].value_counts())"
   ]
  }
 ],
 "metadata": {
  "kernelspec": {
   "display_name": "py312",
   "language": "python",
   "name": "python3"
  },
  "language_info": {
   "codemirror_mode": {
    "name": "ipython",
    "version": 3
   },
   "file_extension": ".py",
   "mimetype": "text/x-python",
   "name": "python",
   "nbconvert_exporter": "python",
   "pygments_lexer": "ipython3",
   "version": "3.12.5"
  }
 },
 "nbformat": 4,
 "nbformat_minor": 2
}
