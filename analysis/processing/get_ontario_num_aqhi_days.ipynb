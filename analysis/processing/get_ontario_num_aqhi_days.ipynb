{
 "cells": [
  {
   "cell_type": "code",
   "execution_count": 1,
   "id": "9d0cafa3-465c-4581-a2eb-0734b7fd07f7",
   "metadata": {},
   "outputs": [],
   "source": [
    "import os\n",
    "from datetime import datetime, timedelta\n",
    "\n",
    "import pandas as pd\n",
    "import numpy as np\n",
    "from tqdm import tqdm"
   ]
  },
  {
   "cell_type": "code",
   "execution_count": 2,
   "id": "fe5bfd29-e5c3-4cac-a41f-e89b2d639116",
   "metadata": {},
   "outputs": [],
   "source": [
    "from constants import ONTARIO_CITIES"
   ]
  },
  {
   "cell_type": "markdown",
   "id": "bdcb9416-e2dc-4e43-9f5b-9587738ac75d",
   "metadata": {},
   "source": [
    "For the high and very high AQHI categories, produce a CSV where the rows are the cities, and the columns are the years from 2003.\n",
    "\n",
    "The values of each cell should be the number of days in a year in which there is an AQHI value in that range (we will default to maximum - but others can be used)."
   ]
  },
  {
   "cell_type": "code",
   "execution_count": 11,
   "id": "f2dd5ff8-45ba-4e26-8bba-935fb9ce3abf",
   "metadata": {},
   "outputs": [
    {
     "name": "stderr",
     "output_type": "stream",
     "text": [
      "100%|███████████████████████████████████████████| 38/38 [00:00<00:00, 76.59it/s]"
     ]
    },
    {
     "name": "stdout",
     "output_type": "stream",
     "text": [
      "Saved ../../data/results/num_aqhi_days/high.csv\n",
      "Saved ../../data/results/num_aqhi_days/very_high.csv\n"
     ]
    },
    {
     "name": "stderr",
     "output_type": "stream",
     "text": [
      "\n"
     ]
    }
   ],
   "source": [
    "results_dir = \"../../data/results/num_aqhi_days\"\n",
    "os.makedirs(results_dir, exist_ok=True)\n",
    "\n",
    "# Define only the categories we care about\n",
    "aqhi_categories = {\n",
    "    \"high\": (7, 10),\n",
    "    \"very_high\": (11, np.inf)\n",
    "}\n",
    "\n",
    "category_results = {cat: {} for cat in aqhi_categories}\n",
    "\n",
    "for city in tqdm(sorted(ONTARIO_CITIES)):\n",
    "    # Paths\n",
    "    daily_path = f\"../../data/processed/ontario/daily/{city}.csv\"\n",
    "    coverage_path = f\"../../data/processed/ontario/metadata/coverage/yearly/{city}.csv\"\n",
    "\n",
    "    if not os.path.exists(daily_path) or not os.path.exists(coverage_path):\n",
    "        print(f\"⚠️ Missing data for {city}\")\n",
    "        continue\n",
    "\n",
    "    # Load daily AQHI\n",
    "    df_daily = pd.read_csv(daily_path, index_col=0, parse_dates=True)\n",
    "    df_daily = df_daily.sort_index()\n",
    "    df_daily[\"max_aqhi\"] = pd.to_numeric(df_daily[\"max_aqhi\"], errors=\"coerce\")\n",
    "    df_daily[\"year\"] = df_daily.index.year\n",
    "\n",
    "    # Load coverage metadata\n",
    "    df_cov = pd.read_csv(coverage_path, index_col=0, parse_dates=True)\n",
    "    # Convert index from dates (YYYY-01-01) → year integer\n",
    "    df_cov.index = df_cov.index.year\n",
    "    coverage = df_cov[\"aqhi\"]\n",
    "\n",
    "    for cat, (low, high) in aqhi_categories.items():\n",
    "        # Mask for the AQHI category\n",
    "        mask = (df_daily[\"max_aqhi\"] >= low) & (df_daily[\"max_aqhi\"] <= high)\n",
    "        counts = df_daily.loc[mask].groupby(\"year\").size()\n",
    "\n",
    "        # Apply the coverage rule (>50%)\n",
    "        filtered_counts = {}\n",
    "        for year in counts.index.union(coverage.index):\n",
    "            if coverage.get(year, 0) > 50:\n",
    "                filtered_counts[year] = counts.get(year, 0)\n",
    "            else:\n",
    "                filtered_counts[year] = np.nan\n",
    "\n",
    "        category_results[cat][city] = pd.Series(filtered_counts)\n",
    "\n",
    "# Convert each category into a DataFrame and save\n",
    "for cat, city_data in category_results.items():\n",
    "    df_cat = pd.DataFrame(city_data).T  # cities as rows\n",
    "    df_cat = df_cat.reindex(sorted(ONTARIO_CITIES))  # alphabetical\n",
    "    df_cat = df_cat.reindex(sorted(df_cat.columns), axis=1)  # years sorted\n",
    "\n",
    "    out_path = f\"{results_dir}/{cat}.csv\"\n",
    "    df_cat.to_csv(out_path, float_format=\"%.0f\")\n",
    "    print(f\"Saved {out_path}\")"
   ]
  }
 ],
 "metadata": {
  "kernelspec": {
   "display_name": "Python 3 (ipykernel)",
   "language": "python",
   "name": "python3"
  },
  "language_info": {
   "codemirror_mode": {
    "name": "ipython",
    "version": 3
   },
   "file_extension": ".py",
   "mimetype": "text/x-python",
   "name": "python",
   "nbconvert_exporter": "python",
   "pygments_lexer": "ipython3",
   "version": "3.12.5"
  }
 },
 "nbformat": 4,
 "nbformat_minor": 5
}
