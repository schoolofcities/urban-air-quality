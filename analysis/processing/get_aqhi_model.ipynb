{
 "cells": [
  {
   "cell_type": "code",
   "execution_count": 1,
   "id": "7e292fe3-6707-4951-8b47-22a9708f3cef",
   "metadata": {},
   "outputs": [],
   "source": [
    "import os\n",
    "from io import StringIO\n",
    "\n",
    "import pandas as pd\n",
    "import numpy as np"
   ]
  },
  {
   "cell_type": "markdown",
   "id": "dc972fe1-9f22-4d53-82a1-cc1fd30d9680",
   "metadata": {},
   "source": [
    "Parse various samples of pollutants to AQHI into a CSV"
   ]
  },
  {
   "cell_type": "code",
   "execution_count": 15,
   "id": "cf5dd810-1d0c-497b-b631-14624008d5af",
   "metadata": {},
   "outputs": [],
   "source": [
    "# Various Barrie AQHIs from\n",
    "# https://www.airqualityontario.com/aqhi/today.php?stationid=47045&start_day=29&start_month=12&start_year=2024&showType=table&station_id=47045&submitter=Refresh+page\n",
    "AQHIs = \"\"\"\n",
    "2023-05-18 \t2 \t2 \t2 \t2 \t2 \t2 \t2 \t2 \t3 \t3 \t3 \t2 \t2 \t2 \t3 \t3 \t3 \t3 \t3 \t3 \t3 \t3 \t3 \t3\n",
    "2023-05-19 \t3 \t3 \t3 \t3 \t3 \t2 \t2 \t3 \t3 \t3 \t3 \t3 \t3 \t3 \t4 \t4 \t4 \t5 \t5 \t4 \t4 \t4 \t3 \t3\n",
    "2023-05-20 \t3 \t3 \t3 \t3 \t2 \t2 \t2 \t2 \t2 \t3 \t4 \t4 \t4 \t3 \t3 \t3 \t2 \t2 \t2 \t2 \t2 \t2 \t2 \t2\n",
    "2023-06-05 \t3 \t3 \t3 \t3 \t2 \t2 \t2 \t2 \t2 \t3 \t3 \t2 \t2 \t3 \t3 \t3 \t4 \t4 \t4 \t4 \t4 \t4 \t4 \t4\n",
    "2023-06-06 \t3 \t3 \t3 \t3 \t3 \t3 \t3 \t3 \t3 \t3 \t3 \t4 \t5 \t6 \t7 \t6 \t6 \t5 \t5 \t6 \t6 \t6 \t5 \t4\n",
    "2023-06-07 \t4 \t3 \t3 \t2 \t2 \t2 \t2 \t3 \t3 \t3 \t4 \t5 \t6 \t6 \t6 \t5 \t5 \t5 \t5 \t4 \t3 \t3 \t3 \t2\n",
    "2023-06-27 \t2 \t2 \t2 \t2 \t2 \t2 \t2 \t2 \t2 \t2 \t2 \t2 \t2 \t2 \t2 \t3 \t4 \t5 \t5 \t5 \t0 \t0 \t5 \t4\n",
    "2023-06-28 \t4 \t5 \t5 \t5 \t5 \t6 \t6 \t5 \t4 \t4 \t5 \t6 \t6 \t6 \t6 \t6 \t8 \t9 \t9 \t8 \t5 \t3 \t3 \t2\n",
    "2023-06-29 \t2 \t3 \t2 \t3 \t2 \t2 \t2 \t2 \t2 \t2 \t2 \t2 \t2 \t3 \t3 \t4 \t4 \t5 \t5 \t5 \t6 \t6 \t6 \t7\n",
    "2023-08-22 \t1 \t1 \t1 \t1 \t1 \t1 \t1 \t2 \t2 \t2 \t2 \t2 \t2 \t2 \t2 \t2 \t2 \t2 \t2 \t2 \t2 \t2 \t2 \t2\n",
    "2023-08-23 \t2 \t2 \t2 \t2 \t2 \t1 \t1 \t1 \t1 \t2 \t2 \t2 \t2 \t2 \t2 \t2 \t2 \t2 \t2 \t2 \t2 \t2 \t2 \t2\n",
    "2023-08-24 \t2 \t2 \t2 \t2 \t2 \t2 \t2 \t2 \t2 \t2 \t2 \t2 \t2 \t2 \t2 \t2 \t2 \t2 \t2 \t2 \t2 \t2 \t2 \t2\n",
    "2023-11-27 \t2 \t2 \t2 \t2 \t2 \t2 \t2 \t2 \t2 \t2 \t2 \t2 \t2 \t2 \t2 \t2 \t2 \t2 \t2 \t2 \t2 \t2 \t2 \t2\n",
    "2023-11-28 \t2 \t2 \t2 \t2 \t2 \t2 \t2 \t2 \t2 \t2 \t2 \t2 \t2 \t2 \t2 \t2 \t2 \t2 \t2 \t2 \t2 \t2 \t2 \t2\n",
    "2023-11-29 \t2 \t2 \t2 \t2 \t2 \t2 \t2 \t2 \t2 \t2 \t2 \t2 \t2 \t2 \t2 \t3 \t3 \t3 \t3 \t3 \t2 \t2 \t2 \t3\n",
    "2024-02-11 \t1 \t1 \t1 \t1 \t1 \t1 \t1 \t1 \t1 \t2 \t2 \t2 \t2 \t2 \t2 \t2 \t2 \t2 \t2 \t2 \t2 \t2 \t2 \t2\n",
    "2024-02-12 \t2 \t2 \t2 \t2 \t2 \t2 \t2 \t2 \t2 \t2 \t2 \t2 \t2 \t2 \t2 \t3 \t9 \t4 \t4 \t2 \t3 \t3 \t3 \t3\n",
    "2024-02-13 \t3 \t3 \t3 \t3 \t3 \t3 \t3 \t3 \t2 \t2 \t2 \t2 \t2 \t2 \t2 \t2 \t2 \t2 \t2 \t2 \t2 \t2 \t2 \t2\n",
    "2024-05-16 \t2 \t2 \t2 \t2 \t2 \t1 \t0 \t0 \t0 \t0 \t2 \t2 \t2 \t2 \t2 \t2 \t2 \t3 \t3 \t3 \t3 \t3 \t3 \t3\n",
    "2024-05-17 \t2 \t2 \t2 \t2 \t1 \t1 \t1 \t1 \t1 \t2 \t2 \t2 \t2 \t2 \t2 \t2 \t2 \t2 \t2 \t2 \t2 \t2 \t0 \t0\n",
    "2024-05-18 \t0 \t0 \t2 \t2 \t2 \t2 \t1 \t1 \t1 \t2 \t2 \t2 \t2 \t2 \t2 \t2 \t2 \t2 \t2 \t3 \t3 \t3 \t3 \t2\n",
    "2024-07-30 \t0 \t0 \t4 \t4 \t3 \t3 \t3 \t3 \t3 \t3 \t3 \t2 \t2 \t3 \t3 \t3 \t3 \t3 \t2 \t2 \t2 \t2 \t2 \t2\n",
    "2024-07-31 \t2 \t2 \t2 \t2 \t2 \t2 \t2 \t2 \t2 \t2 \t2 \t2 \t2 \t2 \t2 \t2 \t2 \t2 \t2 \t2 \t3 \t3 \t3 \t3\n",
    "2024-08-01 \t3 \t2 \t2 \t2 \t2 \t2 \t2 \t2 \t2 \t2 \t2 \t2 \t2 \t3 \t3 \t3 \t3 \t3 \t3 \t3 \t3 \t3 \t3 \t4\n",
    "2024-08-05 \t2 \t2 \t2 \t2 \t4 \t2 \t2 \t2 \t2 \t2 \t2 \t2 \t2 \t2 \t2 \t2 \t2 \t2 \t2 \t2 \t2 \t2 \t2 \t2\n",
    "2024-08-06 \t2 \t2 \t2 \t1 \t1 \t1 \t1 \t1 \t1 \t1 \t1 \t1 \t1 \t1 \t1 \t1 \t2 \t3 \t2 \t2 \t2 \t2 \t1 \t4\n",
    "2024-08-07 \t2 \t2 \t2 \t1 \t1 \t3 \t2 \t1 \t1 \t1 \t1 \t1 \t1 \t2 \t2 \t2 \t2 \t2 \t2 \t2 \t2 \t2 \t2 \t3\n",
    "2024-12-29 \t5 \t3 \t3 \t3 \t2 \t2 \t2 \t2 \t2 \t2 \t2 \t1 \t1 \t1 \t2 \t1 \t1 \t1 \t1 \t1 \t1 \t2 \t1 \t1\n",
    "2024-12-30 \t1 \t1 \t2 \t2 \t2 \t2 \t2 \t2 \t2 \t2 \t1 \t1 \t1 \t1 \t1 \t1 \t1 \t1 \t1 \t1 \t1 \t1 \t1 \t2\n",
    "2024-12-31 \t2 \t2 \t2 \t2 \t2 \t2 \t2 \t2 \t2 \t2 \t2 \t2 \t2 \t2 \t2 \t2 \t2 \t2 \t2 \t2 \t2 \t2 \t2 \t2\n",
    "\"\"\""
   ]
  },
  {
   "cell_type": "code",
   "execution_count": 16,
   "id": "5c714fef-d3fd-45dd-853d-44f0f26df771",
   "metadata": {},
   "outputs": [],
   "source": [
    "# Step 1: Read the multiline string into a list of lines\n",
    "lines = AQHIs.strip().split('\\n')\n",
    "\n",
    "# Step 2: Create a list of records (date, hour, AQHI)\n",
    "records = []\n",
    "for line in lines:\n",
    "    parts = line.strip().split()\n",
    "    date = parts[0]\n",
    "    aqhis = parts[1:]\n",
    "    for hour, value in enumerate(aqhis):\n",
    "        records.append((date, hour, int(value)))\n",
    "\n",
    "# Step 3: Create DataFrame\n",
    "df_aqhi = pd.DataFrame(records, columns=[\"date\", \"hour\", \"AQHI\"])\n",
    "\n",
    "# Step 4: Convert date and hour to a datetime index\n",
    "df_aqhi[\"datetime\"] = pd.to_datetime(df_aqhi[\"date\"]) + pd.to_timedelta(df_aqhi[\"hour\"], unit=\"h\")\n",
    "\n",
    "# Step 5: Set datetime as index and drop extra columns\n",
    "df_aqhi = df_aqhi.set_index(\"datetime\")[[\"AQHI\"]]\n",
    "\n",
    "# Step 6: Sort by datetime index\n",
    "df_aqhi = df_aqhi.sort_index()\n",
    "\n",
    "# Optional: view first few rows\n",
    "# df_aqhi"
   ]
  },
  {
   "cell_type": "markdown",
   "id": "ff91f078-556d-47ab-adcd-a01ae2709d1e",
   "metadata": {},
   "source": [
    "Identify accuracy relative to the given AQHI model"
   ]
  },
  {
   "cell_type": "code",
   "execution_count": 31,
   "id": "abf2d1e6-8275-42bf-ab0e-d57687ac0b0d",
   "metadata": {},
   "outputs": [
    {
     "name": "stdout",
     "output_type": "stream",
     "text": [
      "Exact Match Accuracy: 70.69%\n",
      "Within ±1 Accuracy: 94.58%\n",
      "Mean Absolute Error (MAE): 0.35\n",
      "Root Mean Squared Error (RMSE): 0.76\n"
     ]
    }
   ],
   "source": [
    "# Load the Barrie AQHI data\n",
    "df_barrie = pd.read_csv(\n",
    "    '../../data/processed/ontario/hourly/barrie.csv',\n",
    "    parse_dates=True,\n",
    "    index_col=0\n",
    ")\n",
    "\n",
    "# Standardize column names if necessary\n",
    "df_barrie.columns = df_barrie.columns.str.lower()\n",
    "\n",
    "# Filter both to overlapping time range\n",
    "common_index = df_aqhi.index.intersection(df_barrie.index)\n",
    "\n",
    "# Subset both DataFrames to the common index\n",
    "df_aqhi_common = df_aqhi.loc[common_index]\n",
    "df_barrie_common = df_barrie.loc[common_index]\n",
    "\n",
    "# Compare: create a merged DataFrame\n",
    "# df_compare = pd.DataFrame({\n",
    "#     'aqhi_expected': df_aqhi_common['AQHI'].astype(float),  # from the string\n",
    "#     'aqhi_actual': df_barrie_common['aqhi'].astype(float)   # from the CSV\n",
    "# })\n",
    "\n",
    "df_compare = df_barrie_common.copy()\n",
    "df_compare = df_compare.rename(columns={\"aqhi\": \"aqhi_actual\"})\n",
    "df_compare[\"aqhi_expected\"] = df_aqhi_common[\"AQHI\"].astype(float)\n",
    "\n",
    "# Compute absolute error\n",
    "df_compare[\"abs_error\"] = (df_compare[\"aqhi_expected\"] - df_compare[\"aqhi_actual\"]).abs()\n",
    "\n",
    "# Metrics\n",
    "exact_match_accuracy = (df_compare[\"abs_error\"] == 0).mean()\n",
    "within_one_accuracy = (df_compare[\"abs_error\"] <= 1).mean()\n",
    "mae = df_compare[\"abs_error\"].mean()\n",
    "rmse = np.sqrt((df_compare[\"abs_error\"] ** 2).mean())\n",
    "\n",
    "# Print metrics\n",
    "print(f\"Exact Match Accuracy: {exact_match_accuracy:.2%}\")\n",
    "print(f\"Within ±1 Accuracy: {within_one_accuracy:.2%}\")\n",
    "print(f\"Mean Absolute Error (MAE): {mae:.2f}\")\n",
    "print(f\"Root Mean Squared Error (RMSE): {rmse:.2f}\")\n",
    "\n",
    "# Optional: display mismatches\n",
    "# df_mismatches = df_compare[df_compare[\"abs_error\"] > 1]\n"
   ]
  },
  {
   "cell_type": "code",
   "execution_count": 35,
   "id": "f8223a01-762a-4d28-8f88-1843252966a4",
   "metadata": {},
   "outputs": [],
   "source": [
    "df_compare.to_csv('../../data/processed/ontario/tests/comparison.csv')"
   ]
  },
  {
   "cell_type": "markdown",
   "id": "10233ab0-1b5c-4232-a784-33380b50a352",
   "metadata": {},
   "source": [
    "Identify accuracy relative to the summer and winter AQHI models"
   ]
  },
  {
   "cell_type": "code",
   "execution_count": null,
   "id": "8abe45bf-f89b-42d8-9c3c-001cfdf45d51",
   "metadata": {},
   "outputs": [],
   "source": []
  },
  {
   "cell_type": "markdown",
   "id": "e397fd6e-c55e-459f-83c1-387e816f3e64",
   "metadata": {},
   "source": [
    "Devise a linear regression model, and identify accuracy"
   ]
  },
  {
   "cell_type": "code",
   "execution_count": 22,
   "id": "79f32d69-33fc-48de-a9e2-42d1f28f4748",
   "metadata": {},
   "outputs": [
    {
     "name": "stderr",
     "output_type": "stream",
     "text": [
      "/home/aniket/miniconda3/envs/py312/lib/python3.12/site-packages/sklearn/metrics/_regression.py:492: FutureWarning: 'squared' is deprecated in version 1.4 and will be removed in 1.6. To calculate the root mean squared error, use the function'root_mean_squared_error'.\n",
      "  warnings.warn(\n"
     ]
    },
    {
     "name": "stdout",
     "output_type": "stream",
     "text": [
      "Mean Absolute Error (MAE): 0.48\n",
      "Root Mean Squared Error (RMSE): 0.77\n",
      "R-squared: 0.64\n"
     ]
    },
    {
     "data": {
      "image/png": "[encoded data removed]",
      "text/plain": [
       "<Figure size 600x600 with 1 Axes>"
      ]
     },
     "metadata": {},
     "output_type": "display_data"
    }
   ],
   "source": [
    "from sklearn.model_selection import train_test_split\n",
    "from sklearn.linear_model import LinearRegression\n",
    "from sklearn.metrics import mean_absolute_error, mean_squared_error, r2_score\n",
    "import matplotlib.pyplot as plt\n",
    "\n",
    "# Step 1: Load pollutant data\n",
    "df_barrie = pd.read_csv(\n",
    "    '../../data/processed/ontario/hourly/barrie.csv',\n",
    "    parse_dates=True,\n",
    "    index_col=0\n",
    ")\n",
    "\n",
    "# Step 2: Lowercase column names\n",
    "df_barrie.columns = df_barrie.columns.str.lower()\n",
    "\n",
    "# Step 3: Merge with df_aqhi using datetime index\n",
    "df_barrie = df_barrie.drop(columns=[\"aqhi\"], errors=\"ignore\")\n",
    "\n",
    "df_model = df_barrie.join(df_aqhi.rename(columns={\"AQHI\": \"aqhi\"}), how=\"inner\")\n",
    "\n",
    "\n",
    "# Step 4: Drop missing values\n",
    "df_model = df_model.dropna(subset=[\"no2_3h_avg\", \"o3_3h_avg\", \"pm25_3h_avg\", \"aqhi\"])\n",
    "\n",
    "# Step 5: Define features and target\n",
    "X = df_model[[\"no2_3h_avg\", \"o3_3h_avg\", \"pm25_3h_avg\"]]\n",
    "y = df_model[\"aqhi\"]\n",
    "\n",
    "# Step 6: Train/test split\n",
    "X_train, X_test, y_train, y_test = train_test_split(X, y, test_size=0.2, random_state=42)\n",
    "\n",
    "# Step 7: Fit linear regression model\n",
    "model = LinearRegression()\n",
    "model.fit(X_train, y_train)\n",
    "\n",
    "# Step 8: Predict on test set\n",
    "y_pred = model.predict(X_test)\n",
    "\n",
    "# Step 9: Evaluate model\n",
    "mae = mean_absolute_error(y_test, y_pred)\n",
    "rmse = mean_squared_error(y_test, y_pred, squared=False)\n",
    "r2 = r2_score(y_test, y_pred)\n",
    "\n",
    "print(f\"Mean Absolute Error (MAE): {mae:.2f}\")\n",
    "print(f\"Root Mean Squared Error (RMSE): {rmse:.2f}\")\n",
    "print(f\"R-squared: {r2:.2f}\")\n",
    "\n",
    "# Optional: Plot predictions vs actual\n",
    "plt.figure(figsize=(6, 6))\n",
    "plt.scatter(y_test, y_pred, alpha=0.5)\n",
    "plt.plot([y.min(), y.max()], [y.min(), y.max()], 'r--')\n",
    "plt.xlabel(\"Actual AQHI\")\n",
    "plt.ylabel(\"Predicted AQHI\")\n",
    "plt.title(\"Regression Predictions vs Actual AQHI\")\n",
    "plt.grid(True)\n",
    "plt.show()\n"
   ]
  }
 ],
 "metadata": {
  "kernelspec": {
   "display_name": "Python 3 (ipykernel)",
   "language": "python",
   "name": "python3"
  },
  "language_info": {
   "codemirror_mode": {
    "name": "ipython",
    "version": 3
   },
   "file_extension": ".py",
   "mimetype": "text/x-python",
   "name": "python",
   "nbconvert_exporter": "python",
   "pygments_lexer": "ipython3",
   "version": "3.12.5"
  }
 },
 "nbformat": 4,
 "nbformat_minor": 5
}
