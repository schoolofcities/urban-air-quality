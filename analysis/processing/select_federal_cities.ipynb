{
 "cells": [
  {
   "cell_type": "code",
   "execution_count": 6,
   "metadata": {},
   "outputs": [],
   "source": [
    "import os\n",
    "import csv\n",
    "import requests\n",
    "from datetime import datetime, timedelta\n",
    "from calendar import monthrange\n",
    "\n",
    "import pandas as pd\n",
    "import numpy as np\n",
    "from bs4 import BeautifulSoup\n",
    "from tqdm import tqdm"
   ]
  },
  {
   "cell_type": "code",
   "execution_count": 5,
   "metadata": {},
   "outputs": [],
   "source": [
    "from constants import FEDERAL_CITIES"
   ]
  },
  {
   "cell_type": "code",
   "execution_count": 14,
   "metadata": {},
   "outputs": [
    {
     "data": {
      "text/plain": [
       "Index(['NAPS_ID', 'Station_Name', 'Status', 'Location_Address', 'City', 'P/T',\n",
       "       'Postal_Code', 'Timezone', 'Latitude', 'Longitude', 'Elevation',\n",
       "       'Start_Year', 'End_Year', 'Combined_Stations', 'Inlet_Height',\n",
       "       'Network', 'SO2', 'CO', 'NO2', 'NO', 'NOX', 'O3', 'PM_25_Continuous',\n",
       "       'PM_10_Continuous', 'PM_2.5_RM', 'PM10-2.5', 'PM2.5_Speciation', 'VOC',\n",
       "       'Carbonyl', 'PAH', 'Site_Type', 'Urbanization', 'Neighbourhood',\n",
       "       'Land_Use', 'Scale', 'PC', 'CD', 'CSD', 'CMA/CA', 'AQMS_Airzone',\n",
       "       'Core_Site'],\n",
       "      dtype='object')"
      ]
     },
     "execution_count": 14,
     "metadata": {},
     "output_type": "execute_result"
    }
   ],
   "source": [
    "df_stations = pd.read_csv('../../data/raw/federal/metadata/StationsNAPS-StationsSNPA.csv')\n",
    "df_stations.columns"
   ]
  },
  {
   "cell_type": "markdown",
   "metadata": {},
   "source": [
    "Remove stations which have old data only (before 2000) or aren't in our list"
   ]
  },
  {
   "cell_type": "code",
   "execution_count": null,
   "metadata": {},
   "outputs": [],
   "source": []
  }
 ],
 "metadata": {
  "kernelspec": {
   "display_name": "py312",
   "language": "python",
   "name": "python3"
  },
  "language_info": {
   "name": "python",
   "version": "3.12.5"
  }
 },
 "nbformat": 4,
 "nbformat_minor": 2
}
