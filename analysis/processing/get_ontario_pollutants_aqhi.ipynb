{
 "cells": [
  {
   "cell_type": "code",
   "execution_count": 6,
   "id": "0cdef680-d4ed-4b04-9d06-d78f57c9cfe6",
   "metadata": {},
   "outputs": [],
   "source": [
    "import os\n",
    "\n",
    "import pandas as pd\n",
    "import numpy as np\n",
    "from tqdm import tqdm"
   ]
  },
  {
   "cell_type": "code",
   "execution_count": 5,
   "id": "2e0411c1-76e6-435c-a98f-d4dfe7b46530",
   "metadata": {},
   "outputs": [],
   "source": [
    "from constants import ONTARIO_CITIES"
   ]
  },
  {
   "cell_type": "markdown",
   "id": "9952f05b-52c4-40c8-981a-2e59c33a9009",
   "metadata": {},
   "source": [
    "## Parse and organize the pollutant data"
   ]
  },
  {
   "cell_type": "markdown",
   "id": "4558a04e-37b8-49d7-affb-43be50fd974d",
   "metadata": {},
   "source": [
    "Create each of the output files with empty values"
   ]
  },
  {
   "cell_type": "code",
   "execution_count": null,
   "id": "894d66ea-4fd4-403b-adb0-0f3a7b85125c",
   "metadata": {},
   "outputs": [],
   "source": [
    "# Create an empty data frame with a row for every hour from 2005, and columns for the pollutants, rolling averages, and AQHI\n",
    "\n",
    "# Save a copy of this for each city\n"
   ]
  },
  {
   "cell_type": "markdown",
   "id": "8787e707-fcae-42de-ae62-e182fc2a1e0f",
   "metadata": {},
   "source": [
    "Parse data for each year and each pollutant from 2005-2024"
   ]
  },
  {
   "cell_type": "code",
   "execution_count": null,
   "id": "15acda9d-099a-4bb8-b039-5c13b3506a22",
   "metadata": {},
   "outputs": [],
   "source": []
  },
  {
   "cell_type": "markdown",
   "id": "ed247e66-ee23-4653-9b16-0c35599be72c",
   "metadata": {},
   "source": [
    "Use the OpenAQ API to append data for 2025"
   ]
  },
  {
   "cell_type": "code",
   "execution_count": null,
   "id": "b6f983c7-4321-4aa0-9b5c-4cb43e9a0d64",
   "metadata": {},
   "outputs": [],
   "source": []
  },
  {
   "cell_type": "markdown",
   "id": "bf42a39a-cab0-4895-9d13-d3edfe8554a4",
   "metadata": {},
   "source": [
    "## Compute rolling averages and AQHI"
   ]
  },
  {
   "cell_type": "markdown",
   "id": "97a4e10e-d0a2-425c-ada8-647addef14f1",
   "metadata": {},
   "source": [
    "Compute and update CSVs with 3-hour rolling averages"
   ]
  },
  {
   "cell_type": "code",
   "execution_count": null,
   "id": "93f82d17-af80-41e8-bdc6-d4a5b48b90c5",
   "metadata": {},
   "outputs": [],
   "source": []
  },
  {
   "cell_type": "markdown",
   "id": "868ee538-2ad1-426d-8b3e-433ec86994d0",
   "metadata": {},
   "source": [
    "Compute and update CSVs with AQHI per-hour using rolling averages"
   ]
  },
  {
   "cell_type": "code",
   "execution_count": null,
   "id": "744d4ce8-b7af-454e-aab5-10719ad23b5c",
   "metadata": {},
   "outputs": [],
   "source": []
  }
 ],
 "metadata": {
  "kernelspec": {
   "display_name": "Python 3 (ipykernel)",
   "language": "python",
   "name": "python3"
  },
  "language_info": {
   "codemirror_mode": {
    "name": "ipython",
    "version": 3
   },
   "file_extension": ".py",
   "mimetype": "text/x-python",
   "name": "python",
   "nbconvert_exporter": "python",
   "pygments_lexer": "ipython3",
   "version": "3.12.5"
  }
 },
 "nbformat": 4,
 "nbformat_minor": 5
}
