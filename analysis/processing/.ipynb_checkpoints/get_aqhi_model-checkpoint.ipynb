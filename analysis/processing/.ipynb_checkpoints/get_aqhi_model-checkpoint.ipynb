{
 "cells": [
  {
   "cell_type": "code",
   "execution_count": null,
   "id": "7e292fe3-6707-4951-8b47-22a9708f3cef",
   "metadata": {},
   "outputs": [],
   "source": [
    "import os\n",
    "\n",
    "import pandas as pd\n",
    "import numpy as np"
   ]
  },
  {
   "cell_type": "markdown",
   "id": "dc972fe1-9f22-4d53-82a1-cc1fd30d9680",
   "metadata": {},
   "source": [
    "Parse various samples of pollutants to AQHI into a CSV"
   ]
  },
  {
   "cell_type": "code",
   "execution_count": null,
   "id": "cf5dd810-1d0c-497b-b631-14624008d5af",
   "metadata": {},
   "outputs": [],
   "source": []
  },
  {
   "cell_type": "markdown",
   "id": "ff91f078-556d-47ab-adcd-a01ae2709d1e",
   "metadata": {},
   "source": [
    "Identify accuracy relative to the given AQHI model"
   ]
  },
  {
   "cell_type": "code",
   "execution_count": null,
   "id": "17e5053a-609c-49d0-a5da-20c815258f0f",
   "metadata": {},
   "outputs": [],
   "source": []
  },
  {
   "cell_type": "markdown",
   "id": "10233ab0-1b5c-4232-a784-33380b50a352",
   "metadata": {},
   "source": [
    "Identify accuracy relative to the summer and winter AQHI models"
   ]
  },
  {
   "cell_type": "code",
   "execution_count": null,
   "id": "8abe45bf-f89b-42d8-9c3c-001cfdf45d51",
   "metadata": {},
   "outputs": [],
   "source": []
  },
  {
   "cell_type": "markdown",
   "id": "e397fd6e-c55e-459f-83c1-387e816f3e64",
   "metadata": {},
   "source": [
    "Devise a linear regression model, and identify accuracy"
   ]
  },
  {
   "cell_type": "code",
   "execution_count": null,
   "id": "79f32d69-33fc-48de-a9e2-42d1f28f4748",
   "metadata": {},
   "outputs": [],
   "source": []
  }
 ],
 "metadata": {
  "kernelspec": {
   "display_name": "Python 3 (ipykernel)",
   "language": "python",
   "name": "python3"
  },
  "language_info": {
   "codemirror_mode": {
    "name": "ipython",
    "version": 3
   },
   "file_extension": ".py",
   "mimetype": "text/x-python",
   "name": "python",
   "nbconvert_exporter": "python",
   "pygments_lexer": "ipython3",
   "version": "3.12.5"
  }
 },
 "nbformat": 4,
 "nbformat_minor": 5
}
